{
 "cells": [
  {
   "cell_type": "code",
   "execution_count": 1,
   "metadata": {},
   "outputs": [],
   "source": [
    "!pip install --upgrade --quiet pip\n",
    "!pip install --no-cache-dir --quiet --upgrade ../..\n"
   ]
  },
  {
   "cell_type": "code",
   "execution_count": 2,
   "metadata": {},
   "outputs": [
    {
     "name": "stdout",
     "output_type": "stream",
     "text": [
      "       ╔═U════╗\n",
      "       ║\u001b[1;33myy\u001b[0m\u001b[38;5;255mww\u001b[0m\u001b[38;5;255mww\u001b[0m║\n",
      "       ║\u001b[38;5;255mww\u001b[0m\u001b[38;5;255mww\u001b[0m\u001b[38;5;255mww\u001b[0m║\n",
      "       ║\u001b[1;33myy\u001b[0m\u001b[38;5;255mww\u001b[0m\u001b[38;5;255mww\u001b[0m║\n",
      "╔═L════╬═F════╬═R════╦═B════╗\n",
      "║\u001b[1;32mgg\u001b[0m\u001b[1;34mbb\u001b[0m\u001b[1;32mgg\u001b[0m║\u001b[38;5;214moo\u001b[0m\u001b[1;31mrr\u001b[0m\u001b[1;31mrr\u001b[0m║\u001b[1;34mbb\u001b[0m\u001b[1;32mgg\u001b[0m\u001b[1;34mbb\u001b[0m║\u001b[38;5;214moo\u001b[0m\u001b[38;5;214moo\u001b[0m\u001b[1;31mrr\u001b[0m║\n",
      "║\u001b[1;32mgg\u001b[0m\u001b[1;32mgg\u001b[0m\u001b[1;32mgg\u001b[0m║\u001b[38;5;214moo\u001b[0m\u001b[1;31mrr\u001b[0m\u001b[1;31mrr\u001b[0m║\u001b[1;34mbb\u001b[0m\u001b[1;34mbb\u001b[0m\u001b[1;34mbb\u001b[0m║\u001b[38;5;214moo\u001b[0m\u001b[38;5;214moo\u001b[0m\u001b[1;31mrr\u001b[0m║\n",
      "║\u001b[1;32mgg\u001b[0m\u001b[1;32mgg\u001b[0m\u001b[1;32mgg\u001b[0m║\u001b[38;5;214moo\u001b[0m\u001b[1;31mrr\u001b[0m\u001b[1;31mrr\u001b[0m║\u001b[1;34mbb\u001b[0m\u001b[1;34mbb\u001b[0m\u001b[1;34mbb\u001b[0m║\u001b[38;5;214moo\u001b[0m\u001b[38;5;214moo\u001b[0m\u001b[1;31mrr\u001b[0m║\n",
      "╚══════╬═D════╬══════╩══════╝\n",
      "       ║\u001b[38;5;255mww\u001b[0m\u001b[1;33myy\u001b[0m\u001b[1;33myy\u001b[0m║\n",
      "       ║\u001b[1;33myy\u001b[0m\u001b[1;33myy\u001b[0m\u001b[1;33myy\u001b[0m║\n",
      "       ║\u001b[38;5;255mww\u001b[0m\u001b[1;33myy\u001b[0m\u001b[1;33myy\u001b[0m║\n",
      "       ╚══════╝\n",
      "current best cube value:  12\n",
      "Solution length: 3 moves\n",
      "Making move: m1F'\n",
      "       ╔═U════╗\n",
      "       ║\u001b[1;33myy\u001b[0m\u001b[38;5;255mww\u001b[0m\u001b[38;5;255mww\u001b[0m║\n",
      "       ║\u001b[1;32mgg\u001b[0m\u001b[1;34mbb\u001b[0m\u001b[1;34mbb\u001b[0m║\n",
      "       ║\u001b[1;33myy\u001b[0m\u001b[38;5;255mww\u001b[0m\u001b[38;5;255mww\u001b[0m║\n",
      "╔═L════╬═F════╬═R════╦═B════╗\n",
      "║\u001b[1;32mgg\u001b[0m\u001b[38;5;255mww\u001b[0m\u001b[1;32mgg\u001b[0m║\u001b[38;5;214moo\u001b[0m\u001b[1;31mrr\u001b[0m\u001b[1;31mrr\u001b[0m║\u001b[1;34mbb\u001b[0m\u001b[1;33myy\u001b[0m\u001b[1;34mbb\u001b[0m║\u001b[38;5;214moo\u001b[0m\u001b[38;5;214moo\u001b[0m\u001b[1;31mrr\u001b[0m║\n",
      "║\u001b[1;32mgg\u001b[0m\u001b[38;5;255mww\u001b[0m\u001b[1;32mgg\u001b[0m║\u001b[38;5;214moo\u001b[0m\u001b[1;31mrr\u001b[0m\u001b[1;31mrr\u001b[0m║\u001b[1;34mbb\u001b[0m\u001b[1;33myy\u001b[0m\u001b[1;34mbb\u001b[0m║\u001b[38;5;214moo\u001b[0m\u001b[38;5;214moo\u001b[0m\u001b[1;31mrr\u001b[0m║\n",
      "║\u001b[1;32mgg\u001b[0m\u001b[38;5;255mww\u001b[0m\u001b[1;32mgg\u001b[0m║\u001b[38;5;214moo\u001b[0m\u001b[1;31mrr\u001b[0m\u001b[1;31mrr\u001b[0m║\u001b[1;34mbb\u001b[0m\u001b[1;33myy\u001b[0m\u001b[1;34mbb\u001b[0m║\u001b[38;5;214moo\u001b[0m\u001b[38;5;214moo\u001b[0m\u001b[1;31mrr\u001b[0m║\n",
      "╚══════╬═D════╬══════╩══════╝\n",
      "       ║\u001b[38;5;255mww\u001b[0m\u001b[1;33myy\u001b[0m\u001b[1;33myy\u001b[0m║\n",
      "       ║\u001b[1;34mbb\u001b[0m\u001b[1;32mgg\u001b[0m\u001b[1;32mgg\u001b[0m║\n",
      "       ║\u001b[38;5;255mww\u001b[0m\u001b[1;33myy\u001b[0m\u001b[1;33myy\u001b[0m║\n",
      "       ╚══════╝\n",
      "Making move: L2\n",
      "       ╔═U════╗\n",
      "       ║\u001b[38;5;255mww\u001b[0m\u001b[38;5;255mww\u001b[0m\u001b[38;5;255mww\u001b[0m║\n",
      "       ║\u001b[1;34mbb\u001b[0m\u001b[1;34mbb\u001b[0m\u001b[1;34mbb\u001b[0m║\n",
      "       ║\u001b[38;5;255mww\u001b[0m\u001b[38;5;255mww\u001b[0m\u001b[38;5;255mww\u001b[0m║\n",
      "╔═L════╬═F════╬═R════╦═B════╗\n",
      "║\u001b[1;32mgg\u001b[0m\u001b[38;5;255mww\u001b[0m\u001b[1;32mgg\u001b[0m║\u001b[1;31mrr\u001b[0m\u001b[1;31mrr\u001b[0m\u001b[1;31mrr\u001b[0m║\u001b[1;34mbb\u001b[0m\u001b[1;33myy\u001b[0m\u001b[1;34mbb\u001b[0m║\u001b[38;5;214moo\u001b[0m\u001b[38;5;214moo\u001b[0m\u001b[38;5;214moo\u001b[0m║\n",
      "║\u001b[1;32mgg\u001b[0m\u001b[38;5;255mww\u001b[0m\u001b[1;32mgg\u001b[0m║\u001b[1;31mrr\u001b[0m\u001b[1;31mrr\u001b[0m\u001b[1;31mrr\u001b[0m║\u001b[1;34mbb\u001b[0m\u001b[1;33myy\u001b[0m\u001b[1;34mbb\u001b[0m║\u001b[38;5;214moo\u001b[0m\u001b[38;5;214moo\u001b[0m\u001b[38;5;214moo\u001b[0m║\n",
      "║\u001b[1;32mgg\u001b[0m\u001b[38;5;255mww\u001b[0m\u001b[1;32mgg\u001b[0m║\u001b[1;31mrr\u001b[0m\u001b[1;31mrr\u001b[0m\u001b[1;31mrr\u001b[0m║\u001b[1;34mbb\u001b[0m\u001b[1;33myy\u001b[0m\u001b[1;34mbb\u001b[0m║\u001b[38;5;214moo\u001b[0m\u001b[38;5;214moo\u001b[0m\u001b[38;5;214moo\u001b[0m║\n",
      "╚══════╬═D════╬══════╩══════╝\n",
      "       ║\u001b[1;33myy\u001b[0m\u001b[1;33myy\u001b[0m\u001b[1;33myy\u001b[0m║\n",
      "       ║\u001b[1;32mgg\u001b[0m\u001b[1;32mgg\u001b[0m\u001b[1;32mgg\u001b[0m║\n",
      "       ║\u001b[1;33myy\u001b[0m\u001b[1;33myy\u001b[0m\u001b[1;33myy\u001b[0m║\n",
      "       ╚══════╝\n",
      "Making move: m1F\n",
      "       ╔═U════╗\n",
      "       ║\u001b[38;5;255mww\u001b[0m\u001b[38;5;255mww\u001b[0m\u001b[38;5;255mww\u001b[0m║\n",
      "       ║\u001b[38;5;255mww\u001b[0m\u001b[38;5;255mww\u001b[0m\u001b[38;5;255mww\u001b[0m║\n",
      "       ║\u001b[38;5;255mww\u001b[0m\u001b[38;5;255mww\u001b[0m\u001b[38;5;255mww\u001b[0m║\n",
      "╔═L════╬═F════╬═R════╦═B════╗\n",
      "║\u001b[1;32mgg\u001b[0m\u001b[1;32mgg\u001b[0m\u001b[1;32mgg\u001b[0m║\u001b[1;31mrr\u001b[0m\u001b[1;31mrr\u001b[0m\u001b[1;31mrr\u001b[0m║\u001b[1;34mbb\u001b[0m\u001b[1;34mbb\u001b[0m\u001b[1;34mbb\u001b[0m║\u001b[38;5;214moo\u001b[0m\u001b[38;5;214moo\u001b[0m\u001b[38;5;214moo\u001b[0m║\n",
      "║\u001b[1;32mgg\u001b[0m\u001b[1;32mgg\u001b[0m\u001b[1;32mgg\u001b[0m║\u001b[1;31mrr\u001b[0m\u001b[1;31mrr\u001b[0m\u001b[1;31mrr\u001b[0m║\u001b[1;34mbb\u001b[0m\u001b[1;34mbb\u001b[0m\u001b[1;34mbb\u001b[0m║\u001b[38;5;214moo\u001b[0m\u001b[38;5;214moo\u001b[0m\u001b[38;5;214moo\u001b[0m║\n",
      "║\u001b[1;32mgg\u001b[0m\u001b[1;32mgg\u001b[0m\u001b[1;32mgg\u001b[0m║\u001b[1;31mrr\u001b[0m\u001b[1;31mrr\u001b[0m\u001b[1;31mrr\u001b[0m║\u001b[1;34mbb\u001b[0m\u001b[1;34mbb\u001b[0m\u001b[1;34mbb\u001b[0m║\u001b[38;5;214moo\u001b[0m\u001b[38;5;214moo\u001b[0m\u001b[38;5;214moo\u001b[0m║\n",
      "╚══════╬═D════╬══════╩══════╝\n",
      "       ║\u001b[1;33myy\u001b[0m\u001b[1;33myy\u001b[0m\u001b[1;33myy\u001b[0m║\n",
      "       ║\u001b[1;33myy\u001b[0m\u001b[1;33myy\u001b[0m\u001b[1;33myy\u001b[0m║\n",
      "       ║\u001b[1;33myy\u001b[0m\u001b[1;33myy\u001b[0m\u001b[1;33myy\u001b[0m║\n",
      "       ╚══════╝\n"
     ]
    }
   ],
   "source": [
    "import rubics_cube as rc\n",
    "\n",
    "cube = rc.Cube(size=3, show_letter=True)\n",
    "cube.shuffle(4)\n",
    "\n",
    "cube.print()\n",
    "\n",
    "heuristic = rc.same_color_amount\n",
    "solver = rc.AStarSolver(cube, heuristic)\n",
    "\n",
    "solution = solver.solve()\n",
    "\n",
    "print(\"Solution length:\", len(solution), \"moves\")\n",
    "\n",
    "for move in solution:\n",
    "    cube.make_move(move, print_move=True, print_cube=True)\n"
   ]
  },
  {
   "cell_type": "code",
   "execution_count": null,
   "metadata": {},
   "outputs": [],
   "source": []
  }
 ],
 "metadata": {
  "kernelspec": {
   "display_name": ".venv",
   "language": "python",
   "name": "python3"
  },
  "language_info": {
   "codemirror_mode": {
    "name": "ipython",
    "version": 3
   },
   "file_extension": ".py",
   "mimetype": "text/x-python",
   "name": "python",
   "nbconvert_exporter": "python",
   "pygments_lexer": "ipython3",
   "version": "3.8.16"
  },
  "orig_nbformat": 4,
  "vscode": {
   "interpreter": {
    "hash": "cfcf6a851aa7abbcb53a758be308e0956bbf6a72dc19c18fa073aa2d68ce39af"
   }
  }
 },
 "nbformat": 4,
 "nbformat_minor": 2
}
